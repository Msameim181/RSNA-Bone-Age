{
 "cells": [
  {
   "cell_type": "code",
   "execution_count": 18,
   "id": "47c99bfd-4f64-4ef9-b264-42924775ba59",
   "metadata": {},
   "outputs": [],
   "source": [
    "import os"
   ]
  },
  {
   "cell_type": "code",
   "execution_count": 34,
   "id": "c9e64538-8993-4800-8d10-e20fde7cf879",
   "metadata": {},
   "outputs": [],
   "source": [
    "\n",
    "train_zip_path = 'RSNA-Bone-Age-dataSet/dataset/train'\n",
    "test_zip_path = 'RSNA-Bone-Age-dataSet/dataset/test'\n",
    "train_unzip_path = 'train'\n",
    "test_unzip_path = 'test'\n",
    "train_data_path = 'rsna-bone-age/boneage-training-dataset/boneage-training-dataset'\n",
    "test_data_path = 'rsna-bone-age/boneage-test-dataset/boneage-test-dataset'\n",
    "dataSet_path = 'rsna-bone-age'"
   ]
  },
  {
   "cell_type": "code",
   "execution_count": null,
   "id": "28262e3a-ec1b-42ff-801e-8f9eb927b247",
   "metadata": {},
   "outputs": [],
   "source": [
    "# Unzip and remove zip file\n",
    "\n",
    "zips = os.listdir(train_zip_path)\n",
    "\n",
    "for zip_item in zips:\n",
    "    os.environ['zipPath'] = os.path.join(train_zip_path, zip_item)\n",
    "    # Unziping Part\n",
    "    # ! unzip \"$zipPath\"\n",
    "    # remove Zip file\n",
    "    # ! rm \"$zipPath\"\n",
    "    print(os.path.join(train_zip_path, zip_item))\n",
    "    # break;\n",
    "    "
   ]
  },
  {
   "cell_type": "code",
   "execution_count": 25,
   "id": "ebb18dda-5bd5-4eaa-bc15-369c0df2e1d0",
   "metadata": {},
   "outputs": [],
   "source": [
    "def Moving(src, dst_folder):\n",
    "    if not os.path.exists(dst_folder):\n",
    "        os.mkdir(dst_folder)\n",
    "    name = src.split(\"/\")[-1]\n",
    "    dst = os.path.join(dst_folder, name)\n",
    "\n",
    "    os.rename(src, dst)"
   ]
  },
  {
   "cell_type": "code",
   "execution_count": 35,
   "id": "aecc7b07-b0c8-4975-95b1-596c46cf934f",
   "metadata": {},
   "outputs": [
    {
     "name": "stdout",
     "output_type": "stream",
     "text": [
      "9967343041 9505.599061012268\n"
     ]
    }
   ],
   "source": [
    "\n",
    "# Moving Unziped file to riginal place\n",
    "size = 0\n",
    "for path, dirs, files in os.walk(dataSet_path):\n",
    "\n",
    "    for f in files:\n",
    "        fp = os.path.join(path, f)\n",
    "        size += os.path.getsize(fp)\n",
    "        # Moving(fp, train_data_path)\n",
    "\n",
    "print(size, ((size/1024)/1024))"
   ]
  },
  {
   "cell_type": "code",
   "execution_count": null,
   "id": "f23e6f0b-27c7-41eb-913b-3f27828444ed",
   "metadata": {},
   "outputs": [],
   "source": []
  }
 ],
 "metadata": {
  "kernelspec": {
   "display_name": "default:Python",
   "language": "python",
   "name": "conda-env-default-py"
  },
  "language_info": {
   "codemirror_mode": {
    "name": "ipython",
    "version": 3
   },
   "file_extension": ".py",
   "mimetype": "text/x-python",
   "name": "python",
   "nbconvert_exporter": "python",
   "pygments_lexer": "ipython3",
   "version": "3.9.7"
  }
 },
 "nbformat": 4,
 "nbformat_minor": 5
}
